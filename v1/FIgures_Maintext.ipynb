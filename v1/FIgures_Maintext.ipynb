{
 "cells": [
  {
   "cell_type": "code",
   "execution_count": null,
   "metadata": {},
   "outputs": [],
   "source": [
    "import xarray as xr\n",
    "import numpy as np\n"
   ]
  },
  {
   "cell_type": "code",
   "execution_count": null,
   "metadata": {},
   "outputs": [],
   "source": [
    "# Figure 1. Tchenition map\n",
    "\n",
    "\n",
    "\n",
    "# Figure 2. Training and test phases\n",
    "\n",
    "# Figure 3. Independent test\n",
    "\n",
    "\n",
    "# Figure 4. Spatial bias\n",
    "\n",
    "\n",
    "# Figure 5. Seasonal cycle aross different subreiogns\n",
    "\n",
    "\n",
    "\n",
    "# Figure "
   ]
  }
 ],
 "metadata": {
  "language_info": {
   "name": "python"
  }
 },
 "nbformat": 4,
 "nbformat_minor": 2
}
